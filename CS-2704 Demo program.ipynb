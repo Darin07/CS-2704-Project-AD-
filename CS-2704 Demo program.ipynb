{
  "nbformat": 4,
  "nbformat_minor": 0,
  "metadata": {
    "colab": {
      "provenance": []
    },
    "kernelspec": {
      "name": "python3",
      "display_name": "Python 3"
    },
    "language_info": {
      "name": "python"
    }
  },
  "cells": [
    {
      "cell_type": "code",
      "execution_count": 2,
      "metadata": {
        "colab": {
          "base_uri": "https://localhost:8080/"
        },
        "id": "pXoRAujNtBAB",
        "outputId": "6d8c3b4b-13ec-486e-a242-667a9580150b"
      },
      "outputs": [
        {
          "output_type": "stream",
          "name": "stdout",
          "text": [
            "Hello Dr. Kim!\n"
          ]
        }
      ],
      "source": [
        "#Demo program for CS-2704 Project\n",
        "\n",
        "# Print a greeting message\n",
        "print(\"Hello Dr. Kim!\")"
      ]
    }
  ]
}